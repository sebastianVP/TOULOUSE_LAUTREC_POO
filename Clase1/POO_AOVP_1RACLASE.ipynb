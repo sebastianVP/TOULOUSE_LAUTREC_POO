{
 "cells": [
  {
   "cell_type": "markdown",
   "metadata": {
    "id": "FLbWBRp8dhRv"
   },
   "source": [
    "<!---\n",
    "<img src=\"https://imagenpng.com/wp-content/uploads/2020/11/gato.jpg\" alt= \"LOGO CAT\" width=250 height=500 align = \"right\">\n",
    "-->\n",
    "<br><br><br>\n",
    "<h1><font color=\"#7F000E\" size=5> TOLOUSE LAUTREC </font></h1>\n",
    "\n",
    "<h1><font color=\"#7F000R\" size=8>POO INTRODUCCION PYTHON</font></h1>\n",
    "\n",
    "<br>\n",
    "<div style=\"text-align:right\">\n",
    "<font color=\"#7F000E\" size=3>Alexander Valdez </font><br>\n",
    "<font color=\"#7F000E\" size=3>Pruebas en COLAB -CLASE I\n",
    "</font><br>\n",
    "</div>"
   ]
  },
  {
   "cell_type": "markdown",
   "metadata": {
    "id": "bQnsDrKAeMwC"
   },
   "source": [
    "# BIENVENIDOS"
   ]
  },
  {
   "cell_type": "markdown",
   "metadata": {
    "id": "uhzSmHq1jjoh"
   },
   "source": [
    "Programa requiere nombre y escuela."
   ]
  },
  {
   "cell_type": "code",
   "execution_count": 2,
   "metadata": {
    "colab": {
     "base_uri": "https://localhost:8080/"
    },
    "id": "Ua_mHO88efVx",
    "outputId": "b9eda1e4-3bce-4602-d602-f5c67c43b194"
   },
   "outputs": [
    {
     "name": "stdout",
     "output_type": "stream",
     "text": [
      "Name:Alex\n",
      "School:Tolouse\n",
      "Alex pertenece a la escuelaTolouse\n"
     ]
    }
   ],
   "source": [
    "name = input(\"Name:\")\n",
    "school= input(\"School:\")\n",
    "\n",
    "print(f\"{name} pertenece a la escuela {school}\")"
   ]
  },
  {
   "cell_type": "code",
   "execution_count": 4,
   "metadata": {
    "colab": {
     "base_uri": "https://localhost:8080/"
    },
    "id": "zrWs6uDsefdh",
    "outputId": "779fa964-b2fb-4420-a663-1732ecaf7821"
   },
   "outputs": [
    {
     "name": "stdout",
     "output_type": "stream",
     "text": [
      "name: Alex\n",
      "school: Tolouse\n",
      "Alex pertenece a la escuela Tolouse\n"
     ]
    }
   ],
   "source": [
    "def main():\n",
    "    name= input(\"name: \")\n",
    "    school=input(\"school: \")\n",
    "    print(f\"{name} pertenece a la escuela {school}\")\n",
    "\n",
    "main()"
   ]
  },
  {
   "cell_type": "code",
   "execution_count": 6,
   "metadata": {
    "colab": {
     "base_uri": "https://localhost:8080/"
    },
    "id": "5UWjmEW3efgG",
    "outputId": "1ce4df26-e4ec-4992-b5a6-ba00ef90b92c"
   },
   "outputs": [
    {
     "name": "stdout",
     "output_type": "stream",
     "text": [
      "name: Alex \n",
      "school: Tolouse\n",
      "Alex  pertenece a la escuela Tolouse\n"
     ]
    }
   ],
   "source": [
    "def main():\n",
    "   name=get_name()\n",
    "   school=get_school()\n",
    "   print(f\"{name} pertenece a la escuela {school}\")\n",
    "\n",
    "\n",
    "def get_name():\n",
    "    name= input(\"name: \")\n",
    "    return name\n",
    "\n",
    "def get_school():\n",
    "    school=input(\"school: \")\n",
    "    return school\n",
    "\n",
    "\n",
    "main()\n",
    "\n",
    "\n"
   ]
  },
  {
   "cell_type": "markdown",
   "metadata": {
    "id": "GqPiZKJlmG4u"
   },
   "source": [
    "Returnar tuple"
   ]
  },
  {
   "cell_type": "code",
   "execution_count": 11,
   "metadata": {
    "colab": {
     "base_uri": "https://localhost:8080/",
     "height": 366
    },
    "id": "gQIVUeyJfTdm",
    "outputId": "f5c6f9f3-62d4-4d6b-96a4-afff2f8ef204"
   },
   "outputs": [
    {
     "name": "stdout",
     "output_type": "stream",
     "text": [
      "Name: Alex\n",
      "School: Tolouse\n"
     ]
    },
    {
     "ename": "TypeError",
     "evalue": "ignored",
     "output_type": "error",
     "traceback": [
      "\u001b[0;31m---------------------------------------------------------------------------\u001b[0m",
      "\u001b[0;31mTypeError\u001b[0m                                 Traceback (most recent call last)",
      "\u001b[0;32m<ipython-input-11-322c961566f9>\u001b[0m in \u001b[0;36m<cell line: 15>\u001b[0;34m()\u001b[0m\n\u001b[1;32m     13\u001b[0m \u001b[0;34m\u001b[0m\u001b[0m\n\u001b[1;32m     14\u001b[0m \u001b[0;34m\u001b[0m\u001b[0m\n\u001b[0;32m---> 15\u001b[0;31m \u001b[0mmain\u001b[0m\u001b[0;34m(\u001b[0m\u001b[0;34m)\u001b[0m\u001b[0;34m\u001b[0m\u001b[0;34m\u001b[0m\u001b[0m\n\u001b[0m",
      "\u001b[0;32m<ipython-input-11-322c961566f9>\u001b[0m in \u001b[0;36mmain\u001b[0;34m()\u001b[0m\n\u001b[1;32m      2\u001b[0m    \u001b[0mstudent\u001b[0m\u001b[0;34m=\u001b[0m \u001b[0mget_student\u001b[0m\u001b[0;34m(\u001b[0m\u001b[0;34m)\u001b[0m\u001b[0;34m\u001b[0m\u001b[0;34m\u001b[0m\u001b[0m\n\u001b[1;32m      3\u001b[0m    \u001b[0;32mif\u001b[0m \u001b[0mstudent\u001b[0m\u001b[0;34m[\u001b[0m\u001b[0;36m0\u001b[0m\u001b[0;34m]\u001b[0m\u001b[0;34m==\u001b[0m\u001b[0;34m\"Alex\"\u001b[0m\u001b[0;34m:\u001b[0m\u001b[0;34m\u001b[0m\u001b[0;34m\u001b[0m\u001b[0m\n\u001b[0;32m----> 4\u001b[0;31m       \u001b[0mstudent\u001b[0m\u001b[0;34m[\u001b[0m\u001b[0;36m1\u001b[0m\u001b[0;34m]\u001b[0m\u001b[0;34m=\u001b[0m \u001b[0;34m\"Catolica\"\u001b[0m\u001b[0;34m\u001b[0m\u001b[0;34m\u001b[0m\u001b[0m\n\u001b[0m\u001b[1;32m      5\u001b[0m    \u001b[0mprint\u001b[0m\u001b[0;34m(\u001b[0m\u001b[0;34mf\"{student[0]} pertenece a la escuela {student[1]}\"\u001b[0m\u001b[0;34m)\u001b[0m\u001b[0;34m\u001b[0m\u001b[0;34m\u001b[0m\u001b[0m\n\u001b[1;32m      6\u001b[0m \u001b[0;34m\u001b[0m\u001b[0m\n",
      "\u001b[0;31mTypeError\u001b[0m: 'tuple' object does not support item assignment"
     ]
    }
   ],
   "source": [
    "def main():\n",
    "   student= get_student()\n",
    "   if student[0]==\"Alex\":\n",
    "      student[1]= \"Catolica\"\n",
    "   print(f\"{student[0]} pertenece a la escuela {student[1]}\")\n",
    "\n",
    "\n",
    "def get_student():\n",
    "    name= input(\"Name: \")\n",
    "    school= input(\"School: \")\n",
    "    return name, school\n",
    "\n",
    "\n",
    "\n",
    "main()"
   ]
  },
  {
   "cell_type": "markdown",
   "metadata": {
    "id": "P-M8EWqnnv6d"
   },
   "source": [
    "Return Lista"
   ]
  },
  {
   "cell_type": "code",
   "execution_count": 12,
   "metadata": {
    "colab": {
     "base_uri": "https://localhost:8080/"
    },
    "id": "d2boB_FHfT_l",
    "outputId": "9affbaf8-ab12-4917-f6f4-fb8ab7459b57"
   },
   "outputs": [
    {
     "name": "stdout",
     "output_type": "stream",
     "text": [
      "Name: Alex\n",
      "School: Tolouse\n",
      "Alex pertenece a la escuela Catolica\n"
     ]
    }
   ],
   "source": [
    "def main():\n",
    "   student= get_student()\n",
    "   if student[0]==\"Alex\":\n",
    "      student[1]= \"Catolica\"\n",
    "   print(f\"{student[0]} pertenece a la escuela {student[1]}\")\n",
    "\n",
    "\n",
    "def get_student():\n",
    "    name= input(\"Name: \")\n",
    "    school= input(\"School: \")\n",
    "    return [name, school]\n",
    "\n",
    "main()"
   ]
  },
  {
   "cell_type": "markdown",
   "metadata": {
    "id": "qseAKqfooMDI"
   },
   "source": []
  },
  {
   "cell_type": "markdown",
   "metadata": {
    "id": "hKNP_EL6oMG7"
   },
   "source": [
    "USO DE DICCIONARIO:"
   ]
  },
  {
   "cell_type": "code",
   "execution_count": 13,
   "metadata": {
    "colab": {
     "base_uri": "https://localhost:8080/"
    },
    "id": "c4iTt9CJoCsT",
    "outputId": "5dd6ea92-121a-43ce-d621-f0bc240e3b77"
   },
   "outputs": [
    {
     "name": "stdout",
     "output_type": "stream",
     "text": [
      "Name: Alex\n",
      "School: Tolouse\n",
      "Alex pertenece a la escuela Tolouse\n"
     ]
    }
   ],
   "source": [
    "def main():\n",
    "   student= get_student()\n",
    "   print(f\"{student['name']} pertenece a la escuela {student['school']}\")\n",
    "\n",
    "\n",
    "def get_student():\n",
    "    student={}\n",
    "    student[\"name\"]= input(\"Name: \")\n",
    "    student[\"school\"]= input (\"School: \")\n",
    "    return student\n",
    "\n",
    "main()"
   ]
  },
  {
   "cell_type": "code",
   "execution_count": 14,
   "metadata": {
    "colab": {
     "base_uri": "https://localhost:8080/"
    },
    "id": "vzJk6A9Bo3dw",
    "outputId": "afcb0ef4-0e06-42c0-886d-5da0a4132674"
   },
   "outputs": [
    {
     "name": "stdout",
     "output_type": "stream",
     "text": [
      "Name: Alex\n",
      "School: Tolouse\n",
      "Alex pertenece a la escuela Tolouse\n"
     ]
    }
   ],
   "source": [
    "class Student:\n",
    "  ...\n",
    "\n",
    "\n",
    "def main():\n",
    "    student= get_student()\n",
    "    print(f\"{student.name} pertenece a la escuela {student.school}\")\n",
    "\n",
    "\n",
    "def get_student():\n",
    "    student = Student()\n",
    "    student.name= input(\"Name: \")\n",
    "    student.school= input(\"School: \")\n",
    "    return student\n"
   ]
  },
  {
   "cell_type": "code",
   "execution_count": 15,
   "metadata": {
    "colab": {
     "base_uri": "https://localhost:8080/"
    },
    "id": "Mwjt-94ZqRGF",
    "outputId": "ad31359f-1fbb-4978-c73b-2f52ab5ec4d8"
   },
   "outputs": [
    {
     "name": "stdout",
     "output_type": "stream",
     "text": [
      "Name: Alex\n",
      "School: Tolouse\n",
      "Alex pertenece a la escuela Tolouse\n"
     ]
    }
   ],
   "source": [
    "class Student:\n",
    "  def __init__(self,name, school):\n",
    "      self.name =name\n",
    "      self.school= school\n",
    "\n",
    "\n",
    "def main():\n",
    "    student= get_student()\n",
    "    print(f\"{student.name} pertenece a la escuela {student.school}\")\n",
    "\n",
    "\n",
    "def get_student():\n",
    "    name = input(\"Name: \")\n",
    "    school= input(\"School: \")\n",
    "    student = Student(name,school)\n",
    "    return student\n",
    "\n",
    "main()"
   ]
  },
  {
   "cell_type": "code",
   "execution_count": 26,
   "metadata": {
    "colab": {
     "base_uri": "https://localhost:8080/"
    },
    "id": "Q3n1WW1Bsyf2",
    "outputId": "c8dad0dc-da15-4957-ab4c-6afea3edbee4"
   },
   "outputs": [
    {
     "name": "stdout",
     "output_type": "stream",
     "text": [
      "Name: Alex\n",
      "School: Tolouse\n",
      "Subject: french\n",
      "Alex pertenece a la escuela Tolouse\n",
      "Curso\n",
      "Estudiar 2h\n"
     ]
    }
   ],
   "source": [
    "class Student:\n",
    "  def __init__(self,name, school,subject):\n",
    "      if not name:\n",
    "        raise ValueError(\"Falta nombre\")\n",
    "      if school not in [\"Tolouse\",\"Catolica\"]:\n",
    "        raise ValueError(\"Falta escuela\")\n",
    "      self.name =name\n",
    "      self.school= school\n",
    "      self.subject = subject\n",
    "\n",
    "  def __str__(self):\n",
    "      return f\"{self.name} pertenece a la escuela {self.school}\"\n",
    "\n",
    "  def cantidad_horas(self):\n",
    "      match self.subject:\n",
    "        case \"math\":\n",
    "          return \"Estudiar 3h\"\n",
    "        case \"chemistry\":\n",
    "          return \"Estudiar 1h\"\n",
    "        case \"french\":\n",
    "          return \"Estudiar 2h\"\n",
    "        case _:\n",
    "          return \"Estudiar 30 min\"\n",
    "\n",
    "\n",
    "def main():\n",
    "    student= get_student()\n",
    "    print(student)\n",
    "    print(\"Curso\")\n",
    "    print(student.cantidad_horas())\n",
    "\n",
    "def get_student():\n",
    "    name = input(\"Name: \")\n",
    "    school= input(\"School: \")\n",
    "    subject= input(\"Subject: \")\n",
    "    student = Student(name,school,subject)\n",
    "    return student\n",
    "\n",
    "main()"
   ]
  },
  {
   "cell_type": "markdown",
   "metadata": {
    "id": "ccMXK-UJz_BC"
   },
   "source": [
    "LECTURA DE ARCHIVO"
   ]
  },
  {
   "cell_type": "code",
   "execution_count": 28,
   "metadata": {
    "colab": {
     "base_uri": "https://localhost:8080/"
    },
    "id": "NWzsQxwTtT3B",
    "outputId": "7e05a02c-1097-4a8b-9cfd-c3db506c02c5"
   },
   "outputs": [
    {
     "name": "stdout",
     "output_type": "stream",
     "text": [
      "linea 0\n",
      "linea 1\n",
      "linea 2\n",
      "linea 3\n"
     ]
    }
   ],
   "source": [
    "class AbrirArchivo():\n",
    "  def __init__(self,file_name, mode):\n",
    "      self.file_name=file_name\n",
    "      self.mode = mode\n",
    "\n",
    "  def __enter__(self):\n",
    "    self.file = open(self.file_name,self.mode)\n",
    "    return self.file\n",
    "\n",
    "  def __exit__(self,type,valor,traceback):\n",
    "    self.file.close()\n",
    "\n",
    "\n",
    "with AbrirArchivo(\"ejemplo.txt\",\"r\") as f:\n",
    "  data = f.read()\n",
    "  print(data)"
   ]
  },
  {
   "cell_type": "markdown",
   "metadata": {
    "id": "SuXqOhc8zf5K"
   },
   "source": [
    "Getter y setter"
   ]
  },
  {
   "cell_type": "code",
   "execution_count": 33,
   "metadata": {
    "colab": {
     "base_uri": "https://localhost:8080/"
    },
    "id": "n2VaL3oo2mOK",
    "outputId": "f6864329-c1e8-4559-a0c1-247f6d00ddf2"
   },
   "outputs": [
    {
     "name": "stdout",
     "output_type": "stream",
     "text": [
      "Name: Alex\n",
      "School: Tolouse\n",
      "Alex pertenece a la escuela Tolouse\n"
     ]
    }
   ],
   "source": [
    "class Student:\n",
    "  def __init__(self,name, school):\n",
    "      self.name =name\n",
    "      self.school= school\n",
    "\n",
    "  def __str__(self):\n",
    "      return f\"{self.name} pertenece a la escuela {self.school}\"\n",
    "\n",
    "  @property\n",
    "  def school(self):\n",
    "      return self._school\n",
    "\n",
    "  @school.setter\n",
    "  def school(self,school):\n",
    "      if school not in [\"Tolouse\",\"Catolica\"]:\n",
    "        raise ValueError(\"Falta escuela\")\n",
    "      self._school =school\n",
    "\n",
    "\n",
    "def main():\n",
    "    student= get_student()\n",
    "    print(student)\n",
    "\n",
    "\n",
    "def get_student():\n",
    "    name = input(\"Name: \")\n",
    "    school= input(\"School: \")\n",
    "    return  Student(name,school)\n",
    "\n",
    "\n",
    "main()"
   ]
  },
  {
   "cell_type": "markdown",
   "metadata": {
    "id": "kfBP7W9Z5VmS"
   },
   "source": [
    "RANDOM"
   ]
  },
  {
   "cell_type": "code",
   "execution_count": 37,
   "metadata": {
    "colab": {
     "base_uri": "https://localhost:8080/"
    },
    "id": "G-Ksqtbc34OP",
    "outputId": "173e2315-654e-4a9f-d321-b52d9885f62e"
   },
   "outputs": [
    {
     "name": "stdout",
     "output_type": "stream",
     "text": [
      "Alexander esta en el curso fisica\n"
     ]
    }
   ],
   "source": [
    "import random\n",
    "\n",
    "class Curso:\n",
    "  def __init__(self):\n",
    "    self.cursos= [\"math\",\"english\",\"chemistry\",\"fisica\"]\n",
    "\n",
    "  def asignar(self, name):\n",
    "      print(f\"{name} esta en el curso {random.choice(self.cursos)}\")\n",
    "\n",
    "curso = Curso()\n",
    "curso.asignar(\"Alexander\")\n"
   ]
  },
  {
   "cell_type": "code",
   "execution_count": null,
   "metadata": {
    "id": "tBB2a3Pq6ceo"
   },
   "outputs": [],
   "source": [
    "conda install -c conda-forge nbconvert-webpdf\n"
   ]
  },
  {
   "cell_type": "code",
   "execution_count": null,
   "metadata": {},
   "outputs": [],
   "source": []
  }
 ],
 "metadata": {
  "colab": {
   "provenance": []
  },
  "kernelspec": {
   "display_name": "Python 3 (ipykernel)",
   "language": "python",
   "name": "python3"
  },
  "language_info": {
   "codemirror_mode": {
    "name": "ipython",
    "version": 3
   },
   "file_extension": ".py",
   "mimetype": "text/x-python",
   "name": "python",
   "nbconvert_exporter": "python",
   "pygments_lexer": "ipython3",
   "version": "3.11.3"
  }
 },
 "nbformat": 4,
 "nbformat_minor": 1
}
